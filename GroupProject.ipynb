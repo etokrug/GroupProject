{
 "cells": [
  {
   "cell_type": "markdown",
   "metadata": {},
   "source": [
    "<a id='top'></a>\n",
    "# Group Project\n",
    "## Table of Contents\n",
    "\n",
    "[Initial Imports](#initial)\n",
    "\n",
    "[Correlation](#correlation)\n",
    "\n",
    "[Correlation Heatmap](#heatmap)\n",
    "    \n",
    "[Data Spreads](#spreads)\n",
    "\n",
    "### Results Section\n",
    "[Regression Results](#results)\n",
    "\n",
    "[Diversity Information By Country](#countries)\n",
    "\n",
    "[Quota Countries with datapoint counts](#quota_countries)\n",
    "\n",
    "[Table: Board diversity by country and year](#countries_tbl)\n",
    "\n",
    "[Table: Board diversity by country and year for quota countries](#quota_country_div)\n",
    "\n",
    "[Graphs for countries with quotas for publicly traded firms](#quota_graphs)\n",
    "\n",
    "[Graph: Norway](#norway)\n",
    "\n",
    "[Graph: Spain](#spain)\n",
    "\n",
    "[Graph: France](#france)\n",
    "\n",
    "[Graph: Israel](#israel)\n",
    "\n",
    "[Graph: Belgium](#belgium)"
   ]
  },
  {
   "cell_type": "markdown",
   "metadata": {},
   "source": [
    "<a id=\"initial\"></a>\n",
    "### `Initial imports and parameter setting`"
   ]
  },
  {
   "cell_type": "code",
   "execution_count": 1,
   "metadata": {},
   "outputs": [
    {
     "name": "stdout",
     "output_type": "stream",
     "text": [
      "Python version: 3.6.5 |Anaconda, Inc.| (default, Mar 29 2018, 13:32:41) [MSC v.1900 64 bit (AMD64)]\n",
      "Pandas version: 0.23.0\n",
      "Matplotlib version: 2.2.2\n",
      "Interpreter path: C:\\ProgramData\\Anaconda3\\python.exe\n",
      "Statsmodel version: 0.9.0\n",
      "Seaborn version: 0.8.1\n"
     ]
    }
   ],
   "source": [
    "import pandas as pd\n",
    "import matplotlib\n",
    "import matplotlib.pyplot as plt\n",
    "import sys\n",
    "import numpy as np\n",
    "import statsmodels.api as sm\n",
    "import statsmodels\n",
    "from IPython.display import Image, display\n",
    "from IPython.core.display import HTML \n",
    "import seaborn as sns\n",
    "\n",
    "%matplotlib inline\n",
    "\n",
    "print('Python version: ' + sys.version)\n",
    "print('Pandas version: ' + pd.__version__)\n",
    "print('Matplotlib version: ' + matplotlib.__version__)\n",
    "#print('Scikit-Learn version: ' + sklearn.__version__)\n",
    "print('Interpreter path: ' + sys.executable)\n",
    "print('Statsmodel version: ' + statsmodels.__version__)\n",
    "print('Seaborn version: ' + sns.__version__)\n",
    "pd.set_option('display.max_columns', 1000)\n",
    "pd.set_option('display.max_rows', 1000)\n",
    "pd.set_option('display.max_colwidth', 1000)\n"
   ]
  },
  {
   "cell_type": "markdown",
   "metadata": {},
   "source": [
    "### `Read in the data sheet`"
   ]
  },
  {
   "cell_type": "code",
   "execution_count": 2,
   "metadata": {},
   "outputs": [],
   "source": [
    "df_main = pd.read_excel('CG_dataset_with_correl_region_err.xlsx', sheet_name='Data')"
   ]
  },
  {
   "cell_type": "markdown",
   "metadata": {},
   "source": [
    "### `These are the numeric headers in the data file. These are used to run the correlation.`"
   ]
  },
  {
   "cell_type": "code",
   "execution_count": 3,
   "metadata": {},
   "outputs": [],
   "source": [
    "numeric_hdrs = [\n",
    "    'HAS_QUOTA', 'QUOTA_PCNT', 'QUOTA_PTF', 'QUOTA_SOE', 'QUOTA_PASSAGE_YEAR', 'QUOTA_COMPLIANCE_YEAR',\n",
    "    'bsize', 'mbsize', 'sbsize', 'edirs', 'nedirs', 'idirs', '%brd_indp', 'bind', 'lstruc', \n",
    "    'ceooutside', 'nomcom', 'nomcomind', 'nomcomchart', 'nomcomsize', 'nomcommeet', 'femnom', \n",
    "    'meetatt', 'leaddir', 'boardmeet', 'mboardmeet', 'sboardmeet', 'femboard', 'femmboard',\n",
    "    'femsboard', 'femceo', 'femchair', 'ceoage', 'ceoten', 'cgcomm', 'hrcomm', 'execcomm', \n",
    "    'investcomm', 'csrcomm', 'fincomm', 'execmmem', 'disclcoe', 'cgdiscl', 'audcomm', 'audcommind',\n",
    "    'audcommmeet', 'finexp', 'audcommchart', 'audcommsize', 'femaud', 'audfees', 'aud2fees', \n",
    "    'taxfees', 'othfees', 'totfees', 'big4', 'compcomm', 'compcommind', 'compcommchar', 'compcommsize',\n",
    "    'compcommmeet', 'femcomp', 'bown1st', 'bown1stper', 'mown1st', 'mown1stper', 'neown1st', \n",
    "    'neown1stper', 'indown1st', 'indown1stper', 'ceoown1st', 'ceoown1stper', 'eblock1st',\n",
    "    'eblock1stper', 'iiown1st', 'iiown1stper', 'emown1st', 'emown1stper', 'misc1st', 'misc1stper',\n",
    "    'state1st', 'state1stper', 'wheld1st', 'wheld1stper', 'largest1st', 'largest1stper', 'top51st',\n",
    "    'top51stper', 'large1st', 'ff_sales', 'ff_oper_inc', 'assets', 'ff_assets_intl', 'ff_emp_num',\n",
    "    'ff_rd_exp', 'R&D_INTENSITY', 'ff_roe', 'familyfirm', 'ffdef2', 'ffdef3', 'ffdef4', 'ffdef5',\n",
    "    'ffdef6', 'ffdef7', 'ffdef8', 'ffdef9', 'ffdef10', 'ffdef11', 'ffdef12', 'ffdef13', 'ffdef14',\n",
    "    'ffdef15', 'ffdef17', 'ffdef18', 'ffdef19', 'ffunlist', 'ffident', 'ffmgt', 'ceohired', 'ceofounder',\n",
    "    'ceodescend', 'chairfounder', 'chairdescend', 'chairoutside', 'chairceohire', 'chairceofounder', \n",
    "    'chairceodescend', 'ffpercent', 'dualclass_ff', 'descendboard', 'desendmgt', 'founderboard', \n",
    "    'nffpercent', 'lonefounder', 'fflargest', 'fflargestmgt', 'mltpbh', 'wedge', 'FamilyBoardMembers'\n",
    "]\n",
    "\n",
    "# These are the focused headers referring to the categories we're interested in only.\n",
    "interested_hdrs = [\n",
    "    'bsize', 'mbsize', 'sbsize', 'HAS_QUOTA', 'QUOTA_PCNT', 'QUOTA_PTF', 'femnom', 'femboard', 'femmboard', \n",
    "    'femsboard', 'femceo', 'femchair', 'femaud', 'femcomp', 'FEM_DIV'\n",
    "]"
   ]
  },
  {
   "cell_type": "markdown",
   "metadata": {},
   "source": [
    "<a id='correlation'></a>\n",
    "## Correlation matrix\n",
    "[Return to Table of Contents](#top)"
   ]
  },
  {
   "cell_type": "code",
   "execution_count": 4,
   "metadata": {},
   "outputs": [
    {
     "data": {
      "text/html": [
       "<div>\n",
       "<style scoped>\n",
       "    .dataframe tbody tr th:only-of-type {\n",
       "        vertical-align: middle;\n",
       "    }\n",
       "\n",
       "    .dataframe tbody tr th {\n",
       "        vertical-align: top;\n",
       "    }\n",
       "\n",
       "    .dataframe thead th {\n",
       "        text-align: right;\n",
       "    }\n",
       "</style>\n",
       "<table border=\"1\" class=\"dataframe\">\n",
       "  <thead>\n",
       "    <tr style=\"text-align: right;\">\n",
       "      <th></th>\n",
       "      <th>bsize</th>\n",
       "      <th>mbsize</th>\n",
       "      <th>sbsize</th>\n",
       "      <th>HAS_QUOTA</th>\n",
       "      <th>QUOTA_PCNT</th>\n",
       "      <th>QUOTA_PTF</th>\n",
       "      <th>femnom</th>\n",
       "      <th>femboard</th>\n",
       "      <th>femmboard</th>\n",
       "      <th>femsboard</th>\n",
       "      <th>femceo</th>\n",
       "      <th>femchair</th>\n",
       "      <th>femaud</th>\n",
       "      <th>femcomp</th>\n",
       "      <th>FEM_DIV</th>\n",
       "    </tr>\n",
       "  </thead>\n",
       "  <tbody>\n",
       "    <tr>\n",
       "      <th>bsize</th>\n",
       "      <td>1.000000</td>\n",
       "      <td>NaN</td>\n",
       "      <td>NaN</td>\n",
       "      <td>0.009027</td>\n",
       "      <td>0.006032</td>\n",
       "      <td>0.032946</td>\n",
       "      <td>0.198321</td>\n",
       "      <td>0.302967</td>\n",
       "      <td>NaN</td>\n",
       "      <td>NaN</td>\n",
       "      <td>-0.000241</td>\n",
       "      <td>-0.005402</td>\n",
       "      <td>0.154593</td>\n",
       "      <td>0.146521</td>\n",
       "      <td>0.014553</td>\n",
       "    </tr>\n",
       "    <tr>\n",
       "      <th>mbsize</th>\n",
       "      <td>NaN</td>\n",
       "      <td>1.000000</td>\n",
       "      <td>0.254328</td>\n",
       "      <td>0.102510</td>\n",
       "      <td>0.102284</td>\n",
       "      <td>-0.130213</td>\n",
       "      <td>-0.015709</td>\n",
       "      <td>NaN</td>\n",
       "      <td>0.453862</td>\n",
       "      <td>0.064622</td>\n",
       "      <td>-0.025763</td>\n",
       "      <td>-0.008799</td>\n",
       "      <td>0.000390</td>\n",
       "      <td>-0.029612</td>\n",
       "      <td>NaN</td>\n",
       "    </tr>\n",
       "    <tr>\n",
       "      <th>sbsize</th>\n",
       "      <td>NaN</td>\n",
       "      <td>0.254328</td>\n",
       "      <td>1.000000</td>\n",
       "      <td>0.014306</td>\n",
       "      <td>0.013535</td>\n",
       "      <td>0.096514</td>\n",
       "      <td>0.025837</td>\n",
       "      <td>NaN</td>\n",
       "      <td>0.039748</td>\n",
       "      <td>0.508002</td>\n",
       "      <td>-0.036454</td>\n",
       "      <td>-0.034004</td>\n",
       "      <td>0.107084</td>\n",
       "      <td>0.056751</td>\n",
       "      <td>NaN</td>\n",
       "    </tr>\n",
       "    <tr>\n",
       "      <th>HAS_QUOTA</th>\n",
       "      <td>0.009027</td>\n",
       "      <td>0.102510</td>\n",
       "      <td>0.014306</td>\n",
       "      <td>1.000000</td>\n",
       "      <td>0.995527</td>\n",
       "      <td>0.811862</td>\n",
       "      <td>0.023057</td>\n",
       "      <td>0.207455</td>\n",
       "      <td>0.205893</td>\n",
       "      <td>0.315310</td>\n",
       "      <td>-0.017802</td>\n",
       "      <td>0.010039</td>\n",
       "      <td>0.106237</td>\n",
       "      <td>0.065261</td>\n",
       "      <td>0.239931</td>\n",
       "    </tr>\n",
       "    <tr>\n",
       "      <th>QUOTA_PCNT</th>\n",
       "      <td>0.006032</td>\n",
       "      <td>0.102284</td>\n",
       "      <td>0.013535</td>\n",
       "      <td>0.995527</td>\n",
       "      <td>1.000000</td>\n",
       "      <td>0.830013</td>\n",
       "      <td>0.023400</td>\n",
       "      <td>0.210661</td>\n",
       "      <td>0.205996</td>\n",
       "      <td>0.315449</td>\n",
       "      <td>-0.019805</td>\n",
       "      <td>0.010790</td>\n",
       "      <td>0.110445</td>\n",
       "      <td>0.068843</td>\n",
       "      <td>0.245888</td>\n",
       "    </tr>\n",
       "    <tr>\n",
       "      <th>QUOTA_PTF</th>\n",
       "      <td>0.032946</td>\n",
       "      <td>-0.130213</td>\n",
       "      <td>0.096514</td>\n",
       "      <td>0.811862</td>\n",
       "      <td>0.830013</td>\n",
       "      <td>1.000000</td>\n",
       "      <td>0.027712</td>\n",
       "      <td>0.197221</td>\n",
       "      <td>-0.030654</td>\n",
       "      <td>0.327394</td>\n",
       "      <td>-0.020662</td>\n",
       "      <td>0.010094</td>\n",
       "      <td>0.080964</td>\n",
       "      <td>0.058685</td>\n",
       "      <td>0.218238</td>\n",
       "    </tr>\n",
       "    <tr>\n",
       "      <th>femnom</th>\n",
       "      <td>0.198321</td>\n",
       "      <td>-0.015709</td>\n",
       "      <td>0.025837</td>\n",
       "      <td>0.023057</td>\n",
       "      <td>0.023400</td>\n",
       "      <td>0.027712</td>\n",
       "      <td>1.000000</td>\n",
       "      <td>0.616622</td>\n",
       "      <td>0.043163</td>\n",
       "      <td>0.448983</td>\n",
       "      <td>0.030911</td>\n",
       "      <td>0.066900</td>\n",
       "      <td>0.448170</td>\n",
       "      <td>0.637238</td>\n",
       "      <td>0.618079</td>\n",
       "    </tr>\n",
       "    <tr>\n",
       "      <th>femboard</th>\n",
       "      <td>0.302967</td>\n",
       "      <td>NaN</td>\n",
       "      <td>NaN</td>\n",
       "      <td>0.207455</td>\n",
       "      <td>0.210661</td>\n",
       "      <td>0.197221</td>\n",
       "      <td>0.616622</td>\n",
       "      <td>1.000000</td>\n",
       "      <td>NaN</td>\n",
       "      <td>NaN</td>\n",
       "      <td>0.076938</td>\n",
       "      <td>0.065997</td>\n",
       "      <td>0.627720</td>\n",
       "      <td>0.595000</td>\n",
       "      <td>0.904979</td>\n",
       "    </tr>\n",
       "    <tr>\n",
       "      <th>femmboard</th>\n",
       "      <td>NaN</td>\n",
       "      <td>0.453862</td>\n",
       "      <td>0.039748</td>\n",
       "      <td>0.205893</td>\n",
       "      <td>0.205996</td>\n",
       "      <td>-0.030654</td>\n",
       "      <td>0.043163</td>\n",
       "      <td>NaN</td>\n",
       "      <td>1.000000</td>\n",
       "      <td>0.108314</td>\n",
       "      <td>0.110042</td>\n",
       "      <td>0.013261</td>\n",
       "      <td>0.102943</td>\n",
       "      <td>0.057037</td>\n",
       "      <td>NaN</td>\n",
       "    </tr>\n",
       "    <tr>\n",
       "      <th>femsboard</th>\n",
       "      <td>NaN</td>\n",
       "      <td>0.064622</td>\n",
       "      <td>0.508002</td>\n",
       "      <td>0.315310</td>\n",
       "      <td>0.315449</td>\n",
       "      <td>0.327394</td>\n",
       "      <td>0.448983</td>\n",
       "      <td>NaN</td>\n",
       "      <td>0.108314</td>\n",
       "      <td>1.000000</td>\n",
       "      <td>-0.017215</td>\n",
       "      <td>0.057631</td>\n",
       "      <td>0.595444</td>\n",
       "      <td>0.530718</td>\n",
       "      <td>NaN</td>\n",
       "    </tr>\n",
       "    <tr>\n",
       "      <th>femceo</th>\n",
       "      <td>-0.000241</td>\n",
       "      <td>-0.025763</td>\n",
       "      <td>-0.036454</td>\n",
       "      <td>-0.017802</td>\n",
       "      <td>-0.019805</td>\n",
       "      <td>-0.020662</td>\n",
       "      <td>0.030911</td>\n",
       "      <td>0.076938</td>\n",
       "      <td>0.110042</td>\n",
       "      <td>-0.017215</td>\n",
       "      <td>1.000000</td>\n",
       "      <td>0.002110</td>\n",
       "      <td>0.016591</td>\n",
       "      <td>0.012507</td>\n",
       "      <td>0.082877</td>\n",
       "    </tr>\n",
       "    <tr>\n",
       "      <th>femchair</th>\n",
       "      <td>-0.005402</td>\n",
       "      <td>-0.008799</td>\n",
       "      <td>-0.034004</td>\n",
       "      <td>0.010039</td>\n",
       "      <td>0.010790</td>\n",
       "      <td>0.010094</td>\n",
       "      <td>0.066900</td>\n",
       "      <td>0.065997</td>\n",
       "      <td>0.013261</td>\n",
       "      <td>0.057631</td>\n",
       "      <td>0.002110</td>\n",
       "      <td>1.000000</td>\n",
       "      <td>0.032528</td>\n",
       "      <td>0.069269</td>\n",
       "      <td>0.083262</td>\n",
       "    </tr>\n",
       "    <tr>\n",
       "      <th>femaud</th>\n",
       "      <td>0.154593</td>\n",
       "      <td>0.000390</td>\n",
       "      <td>0.107084</td>\n",
       "      <td>0.106237</td>\n",
       "      <td>0.110445</td>\n",
       "      <td>0.080964</td>\n",
       "      <td>0.448170</td>\n",
       "      <td>0.627720</td>\n",
       "      <td>0.102943</td>\n",
       "      <td>0.595444</td>\n",
       "      <td>0.016591</td>\n",
       "      <td>0.032528</td>\n",
       "      <td>1.000000</td>\n",
       "      <td>0.419146</td>\n",
       "      <td>0.633178</td>\n",
       "    </tr>\n",
       "    <tr>\n",
       "      <th>femcomp</th>\n",
       "      <td>0.146521</td>\n",
       "      <td>-0.029612</td>\n",
       "      <td>0.056751</td>\n",
       "      <td>0.065261</td>\n",
       "      <td>0.068843</td>\n",
       "      <td>0.058685</td>\n",
       "      <td>0.637238</td>\n",
       "      <td>0.595000</td>\n",
       "      <td>0.057037</td>\n",
       "      <td>0.530718</td>\n",
       "      <td>0.012507</td>\n",
       "      <td>0.069269</td>\n",
       "      <td>0.419146</td>\n",
       "      <td>1.000000</td>\n",
       "      <td>0.606775</td>\n",
       "    </tr>\n",
       "    <tr>\n",
       "      <th>FEM_DIV</th>\n",
       "      <td>0.014553</td>\n",
       "      <td>NaN</td>\n",
       "      <td>NaN</td>\n",
       "      <td>0.239931</td>\n",
       "      <td>0.245888</td>\n",
       "      <td>0.218238</td>\n",
       "      <td>0.618079</td>\n",
       "      <td>0.904979</td>\n",
       "      <td>NaN</td>\n",
       "      <td>NaN</td>\n",
       "      <td>0.082877</td>\n",
       "      <td>0.083262</td>\n",
       "      <td>0.633178</td>\n",
       "      <td>0.606775</td>\n",
       "      <td>1.000000</td>\n",
       "    </tr>\n",
       "  </tbody>\n",
       "</table>\n",
       "</div>"
      ],
      "text/plain": [
       "               bsize    mbsize    sbsize  HAS_QUOTA  QUOTA_PCNT  QUOTA_PTF  \\\n",
       "bsize       1.000000       NaN       NaN   0.009027    0.006032   0.032946   \n",
       "mbsize           NaN  1.000000  0.254328   0.102510    0.102284  -0.130213   \n",
       "sbsize           NaN  0.254328  1.000000   0.014306    0.013535   0.096514   \n",
       "HAS_QUOTA   0.009027  0.102510  0.014306   1.000000    0.995527   0.811862   \n",
       "QUOTA_PCNT  0.006032  0.102284  0.013535   0.995527    1.000000   0.830013   \n",
       "QUOTA_PTF   0.032946 -0.130213  0.096514   0.811862    0.830013   1.000000   \n",
       "femnom      0.198321 -0.015709  0.025837   0.023057    0.023400   0.027712   \n",
       "femboard    0.302967       NaN       NaN   0.207455    0.210661   0.197221   \n",
       "femmboard        NaN  0.453862  0.039748   0.205893    0.205996  -0.030654   \n",
       "femsboard        NaN  0.064622  0.508002   0.315310    0.315449   0.327394   \n",
       "femceo     -0.000241 -0.025763 -0.036454  -0.017802   -0.019805  -0.020662   \n",
       "femchair   -0.005402 -0.008799 -0.034004   0.010039    0.010790   0.010094   \n",
       "femaud      0.154593  0.000390  0.107084   0.106237    0.110445   0.080964   \n",
       "femcomp     0.146521 -0.029612  0.056751   0.065261    0.068843   0.058685   \n",
       "FEM_DIV     0.014553       NaN       NaN   0.239931    0.245888   0.218238   \n",
       "\n",
       "              femnom  femboard  femmboard  femsboard    femceo  femchair  \\\n",
       "bsize       0.198321  0.302967        NaN        NaN -0.000241 -0.005402   \n",
       "mbsize     -0.015709       NaN   0.453862   0.064622 -0.025763 -0.008799   \n",
       "sbsize      0.025837       NaN   0.039748   0.508002 -0.036454 -0.034004   \n",
       "HAS_QUOTA   0.023057  0.207455   0.205893   0.315310 -0.017802  0.010039   \n",
       "QUOTA_PCNT  0.023400  0.210661   0.205996   0.315449 -0.019805  0.010790   \n",
       "QUOTA_PTF   0.027712  0.197221  -0.030654   0.327394 -0.020662  0.010094   \n",
       "femnom      1.000000  0.616622   0.043163   0.448983  0.030911  0.066900   \n",
       "femboard    0.616622  1.000000        NaN        NaN  0.076938  0.065997   \n",
       "femmboard   0.043163       NaN   1.000000   0.108314  0.110042  0.013261   \n",
       "femsboard   0.448983       NaN   0.108314   1.000000 -0.017215  0.057631   \n",
       "femceo      0.030911  0.076938   0.110042  -0.017215  1.000000  0.002110   \n",
       "femchair    0.066900  0.065997   0.013261   0.057631  0.002110  1.000000   \n",
       "femaud      0.448170  0.627720   0.102943   0.595444  0.016591  0.032528   \n",
       "femcomp     0.637238  0.595000   0.057037   0.530718  0.012507  0.069269   \n",
       "FEM_DIV     0.618079  0.904979        NaN        NaN  0.082877  0.083262   \n",
       "\n",
       "              femaud   femcomp   FEM_DIV  \n",
       "bsize       0.154593  0.146521  0.014553  \n",
       "mbsize      0.000390 -0.029612       NaN  \n",
       "sbsize      0.107084  0.056751       NaN  \n",
       "HAS_QUOTA   0.106237  0.065261  0.239931  \n",
       "QUOTA_PCNT  0.110445  0.068843  0.245888  \n",
       "QUOTA_PTF   0.080964  0.058685  0.218238  \n",
       "femnom      0.448170  0.637238  0.618079  \n",
       "femboard    0.627720  0.595000  0.904979  \n",
       "femmboard   0.102943  0.057037       NaN  \n",
       "femsboard   0.595444  0.530718       NaN  \n",
       "femceo      0.016591  0.012507  0.082877  \n",
       "femchair    0.032528  0.069269  0.083262  \n",
       "femaud      1.000000  0.419146  0.633178  \n",
       "femcomp     0.419146  1.000000  0.606775  \n",
       "FEM_DIV     0.633178  0.606775  1.000000  "
      ]
     },
     "execution_count": 4,
     "metadata": {},
     "output_type": "execute_result"
    }
   ],
   "source": [
    "#df_numerics = df_main[numeric_hdrs].copy()\n",
    "df_numerics = df_main[interested_hdrs].copy()\n",
    "\n",
    "df_corr = df_numerics.corr(method='pearson')\n",
    "# df_corr.to_excel('correlation.xlsx')\n",
    "df_corr"
   ]
  },
  {
   "cell_type": "markdown",
   "metadata": {},
   "source": [
    "<a id='heatmap'></a>\n",
    "### Pearson Correlation heatmap\n",
    "[Return to Table of Contents](#top)"
   ]
  },
  {
   "cell_type": "code",
   "execution_count": 5,
   "metadata": {},
   "outputs": [
    {
     "data": {
      "text/plain": [
       "<matplotlib.axes._subplots.AxesSubplot at 0x24de2518b00>"
      ]
     },
     "execution_count": 5,
     "metadata": {},
     "output_type": "execute_result"
    },
    {
     "data": {
      "image/png": "[encoded data removed]",
      "text/plain": [
       "<Figure size 1800x864 with 2 Axes>"
      ]
     },
     "metadata": {},
     "output_type": "display_data"
    }
   ],
   "source": [
    "# Set a mask to avoid showing any NULL/NaN cells \n",
    "mask = df_corr.isnull()\n",
    "mask = np.zeros_like(df_corr)\n",
    "mask[np.triu_indices_from(mask)] = True\n",
    "plt.figure(figsize = (25, 12))\n",
    "sns.heatmap(\n",
    "    df_corr, \n",
    "    xticklabels=df_corr.columns,\n",
    "    yticklabels=df_corr.columns,\n",
    "    vmin=-.9, \n",
    "    vmax=.9,\n",
    "    mask=mask,\n",
    "    cmap=\"coolwarm\",\n",
    "    annot=True,\n",
    "    fmt=\".3g\",\n",
    "    linewidths=.5\n",
    ")"
   ]
  },
  {
   "cell_type": "markdown",
   "metadata": {},
   "source": [
    "<a id='spreads'></a>\n",
    "## Data Spread Information\n",
    "[Return to Table of Contents](#top)"
   ]
  },
  {
   "cell_type": "markdown",
   "metadata": {},
   "source": [
    "### Data spread for Female Director(s) on nomination committee (femnom)."
   ]
  },
  {
   "cell_type": "code",
   "execution_count": 6,
   "metadata": {},
   "outputs": [
    {
     "data": {
      "text/plain": [
       "array([[<matplotlib.axes._subplots.AxesSubplot object at 0x0000024DEA376BE0>]],\n",
       "      dtype=object)"
      ]
     },
     "execution_count": 6,
     "metadata": {},
     "output_type": "execute_result"
    },
    {
     "data": {
      "image/png": "[encoded data removed]",
      "text/plain": [
       "<Figure size 432x288 with 1 Axes>"
      ]
     },
     "metadata": {},
     "output_type": "display_data"
    }
   ],
   "source": [
    "df_femnom = df_main[['femnom']].copy()\n",
    "df_femnom['femnom'] = df_femnom['femnom']\n",
    "df_femnom.hist(bins=5)"
   ]
  },
  {
   "cell_type": "code",
   "execution_count": 7,
   "metadata": {},
   "outputs": [
    {
     "data": {
      "text/plain": [
       "0.0    10602\n",
       "1.0     5946\n",
       "2.0     1674\n",
       "3.0      219\n",
       "4.0       32\n",
       "5.0        3\n",
       "Name: femnom, dtype: int64"
      ]
     },
     "execution_count": 7,
     "metadata": {},
     "output_type": "execute_result"
    }
   ],
   "source": [
    "df_femnom['femnom'].value_counts()"
   ]
  },
  {
   "cell_type": "markdown",
   "metadata": {},
   "source": [
    "### Data spread for Female Director(s) on board (femboard)."
   ]
  },
  {
   "cell_type": "code",
   "execution_count": 8,
   "metadata": {},
   "outputs": [
    {
     "data": {
      "text/plain": [
       "array([[<matplotlib.axes._subplots.AxesSubplot object at 0x0000024DE26F3CC0>]],\n",
       "      dtype=object)"
      ]
     },
     "execution_count": 8,
     "metadata": {},
     "output_type": "execute_result"
    },
    {
     "data": {
      "image/png": "[encoded data removed]",
      "text/plain": [
       "<Figure size 432x288 with 1 Axes>"
      ]
     },
     "metadata": {},
     "output_type": "display_data"
    }
   ],
   "source": [
    "df_femboard = df_main[['femboard']].copy()\n",
    "df_femboard['femboard'] = df_femboard['femboard']\n",
    "df_femboard.hist(bins=8, range=(0,8))"
   ]
  },
  {
   "cell_type": "code",
   "execution_count": 9,
   "metadata": {},
   "outputs": [
    {
     "data": {
      "text/plain": [
       "0.0    8517\n",
       "1.0    7655\n",
       "2.0    5088\n",
       "3.0    2097\n",
       "4.0     701\n",
       "5.0     250\n",
       "6.0      44\n",
       "7.0      19\n",
       "8.0       2\n",
       "9.0       1\n",
       "Name: femboard, dtype: int64"
      ]
     },
     "execution_count": 9,
     "metadata": {},
     "output_type": "execute_result"
    }
   ],
   "source": [
    "df_femboard['femboard'].value_counts()"
   ]
  },
  {
   "cell_type": "markdown",
   "metadata": {},
   "source": [
    "### Data spread for Female Director on Management Board (femmboard)."
   ]
  },
  {
   "cell_type": "code",
   "execution_count": 10,
   "metadata": {},
   "outputs": [
    {
     "data": {
      "text/plain": [
       "array([[<matplotlib.axes._subplots.AxesSubplot object at 0x0000024DE24E82E8>]],\n",
       "      dtype=object)"
      ]
     },
     "execution_count": 10,
     "metadata": {},
     "output_type": "execute_result"
    },
    {
     "data": {
      "image/png": "[encoded data removed]",
      "text/plain": [
       "<Figure size 432x288 with 1 Axes>"
      ]
     },
     "metadata": {},
     "output_type": "display_data"
    }
   ],
   "source": [
    "df_femmboard = df_main[['femmboard']].copy()\n",
    "df_femmboard['femmboard'] = df_femmboard['femmboard']\n",
    "df_femmboard.hist(bins=5, range=(0,5))"
   ]
  },
  {
   "cell_type": "code",
   "execution_count": 11,
   "metadata": {},
   "outputs": [
    {
     "data": {
      "text/plain": [
       "0.0    3201\n",
       "1.0     672\n",
       "2.0     157\n",
       "3.0      24\n",
       "4.0       9\n",
       "Name: femmboard, dtype: int64"
      ]
     },
     "execution_count": 11,
     "metadata": {},
     "output_type": "execute_result"
    }
   ],
   "source": [
    "df_femmboard['femmboard'].value_counts()"
   ]
  },
  {
   "cell_type": "markdown",
   "metadata": {},
   "source": [
    "### Data spread for Female Director on Supervisory Board (femsboard)."
   ]
  },
  {
   "cell_type": "code",
   "execution_count": 12,
   "metadata": {},
   "outputs": [
    {
     "data": {
      "text/plain": [
       "array([[<matplotlib.axes._subplots.AxesSubplot object at 0x0000024DF1E12470>]],\n",
       "      dtype=object)"
      ]
     },
     "execution_count": 12,
     "metadata": {},
     "output_type": "execute_result"
    },
    {
     "data": {
      "image/png": "[encoded data removed]",
      "text/plain": [
       "<Figure size 432x288 with 1 Axes>"
      ]
     },
     "metadata": {},
     "output_type": "display_data"
    }
   ],
   "source": [
    "df_femsboard = df_main[['femsboard']].copy()\n",
    "df_femsboard['femsboard'] = df_femsboard['femsboard']\n",
    "df_femsboard.hist(bins=8)"
   ]
  },
  {
   "cell_type": "code",
   "execution_count": 13,
   "metadata": {},
   "outputs": [
    {
     "data": {
      "text/plain": [
       "0.0    1841\n",
       "1.0    1162\n",
       "2.0     625\n",
       "3.0     253\n",
       "4.0     119\n",
       "5.0      43\n",
       "6.0      12\n",
       "7.0       6\n",
       "8.0       2\n",
       "Name: femsboard, dtype: int64"
      ]
     },
     "execution_count": 13,
     "metadata": {},
     "output_type": "execute_result"
    }
   ],
   "source": [
    "df_femsboard['femsboard'].value_counts()"
   ]
  },
  {
   "cell_type": "markdown",
   "metadata": {},
   "source": [
    "### Data spread for Woman CEO (femceo)."
   ]
  },
  {
   "cell_type": "code",
   "execution_count": 14,
   "metadata": {},
   "outputs": [
    {
     "data": {
      "text/plain": [
       "array([[<matplotlib.axes._subplots.AxesSubplot object at 0x0000024DF1EB6C88>]],\n",
       "      dtype=object)"
      ]
     },
     "execution_count": 14,
     "metadata": {},
     "output_type": "execute_result"
    },
    {
     "data": {
      "image/png": "[encoded data removed]",
      "text/plain": [
       "<Figure size 432x288 with 1 Axes>"
      ]
     },
     "metadata": {},
     "output_type": "display_data"
    }
   ],
   "source": [
    "df_femceo = df_main[['femceo']].copy()\n",
    "df_femceo['femceo'] = df_femceo['femceo']\n",
    "df_femceo.hist(bins=5, range=(0,5))"
   ]
  },
  {
   "cell_type": "code",
   "execution_count": 15,
   "metadata": {},
   "outputs": [
    {
     "data": {
      "text/plain": [
       "0    28221\n",
       "1      216\n",
       "Name: femceo, dtype: int64"
      ]
     },
     "execution_count": 15,
     "metadata": {},
     "output_type": "execute_result"
    }
   ],
   "source": [
    "df_femceo['femceo'].value_counts()"
   ]
  },
  {
   "cell_type": "markdown",
   "metadata": {},
   "source": [
    "### Data spread for Woman Chairperson (femchair)."
   ]
  },
  {
   "cell_type": "code",
   "execution_count": 16,
   "metadata": {},
   "outputs": [
    {
     "data": {
      "text/plain": [
       "array([[<matplotlib.axes._subplots.AxesSubplot object at 0x0000024DF2008048>]],\n",
       "      dtype=object)"
      ]
     },
     "execution_count": 16,
     "metadata": {},
     "output_type": "execute_result"
    },
    {
     "data": {
      "image/png": "[encoded data removed]",
      "text/plain": [
       "<Figure size 432x288 with 1 Axes>"
      ]
     },
     "metadata": {},
     "output_type": "display_data"
    }
   ],
   "source": [
    "df_femchair = df_main[['femchair']].copy()\n",
    "df_femchair['femchair'] = df_femchair['femchair']\n",
    "df_femchair.hist(bins=5, range=(0,5))"
   ]
  },
  {
   "cell_type": "code",
   "execution_count": 17,
   "metadata": {},
   "outputs": [
    {
     "data": {
      "text/plain": [
       "0    28233\n",
       "1      203\n",
       "2        1\n",
       "Name: femchair, dtype: int64"
      ]
     },
     "execution_count": 17,
     "metadata": {},
     "output_type": "execute_result"
    }
   ],
   "source": [
    "df_femchair['femchair'].value_counts()"
   ]
  },
  {
   "cell_type": "markdown",
   "metadata": {},
   "source": [
    "### Data spread for Female Director(s) on audit committee (femaud)."
   ]
  },
  {
   "cell_type": "code",
   "execution_count": 18,
   "metadata": {},
   "outputs": [
    {
     "data": {
      "text/plain": [
       "array([[<matplotlib.axes._subplots.AxesSubplot object at 0x0000024DF1E57748>]],\n",
       "      dtype=object)"
      ]
     },
     "execution_count": 18,
     "metadata": {},
     "output_type": "execute_result"
    },
    {
     "data": {
      "image/png": "[encoded data removed]",
      "text/plain": [
       "<Figure size 432x288 with 1 Axes>"
      ]
     },
     "metadata": {},
     "output_type": "display_data"
    }
   ],
   "source": [
    "df_femaud = df_main[['femaud']].copy()\n",
    "df_femaud['femaud'] = df_femaud['femaud']\n",
    "df_femaud.hist(bins=5)"
   ]
  },
  {
   "cell_type": "code",
   "execution_count": 19,
   "metadata": {},
   "outputs": [
    {
     "data": {
      "text/plain": [
       "0.0    13687\n",
       "1.0     7572\n",
       "2.0     2042\n",
       "3.0      205\n",
       "4.0       38\n",
       "5.0        6\n",
       "Name: femaud, dtype: int64"
      ]
     },
     "execution_count": 19,
     "metadata": {},
     "output_type": "execute_result"
    }
   ],
   "source": [
    "df_femaud['femaud'].value_counts()"
   ]
  },
  {
   "cell_type": "markdown",
   "metadata": {},
   "source": [
    "### Data spread for Female Director(s) on remuneration committee (femcomp)."
   ]
  },
  {
   "cell_type": "code",
   "execution_count": 20,
   "metadata": {},
   "outputs": [
    {
     "data": {
      "text/plain": [
       "array([[<matplotlib.axes._subplots.AxesSubplot object at 0x0000024DF1FAAA58>]],\n",
       "      dtype=object)"
      ]
     },
     "execution_count": 20,
     "metadata": {},
     "output_type": "execute_result"
    },
    {
     "data": {
      "image/png": "[encoded data removed]",
      "text/plain": [
       "<Figure size 432x288 with 1 Axes>"
      ]
     },
     "metadata": {},
     "output_type": "display_data"
    }
   ],
   "source": [
    "df_femcomp = df_main[['femcomp']].copy()\n",
    "df_femcomp['femcomp'] = df_femcomp['femcomp']\n",
    "df_femcomp.hist(bins=5)"
   ]
  },
  {
   "cell_type": "code",
   "execution_count": 21,
   "metadata": {},
   "outputs": [
    {
     "data": {
      "text/plain": [
       "0.0    12773\n",
       "1.0     6758\n",
       "2.0     1674\n",
       "3.0      191\n",
       "4.0       21\n",
       "5.0        3\n",
       "Name: femcomp, dtype: int64"
      ]
     },
     "execution_count": 21,
     "metadata": {},
     "output_type": "execute_result"
    }
   ],
   "source": [
    "df_femcomp['femcomp'].value_counts()"
   ]
  },
  {
   "cell_type": "markdown",
   "metadata": {},
   "source": [
    "<a id='results'></a>\n",
    "## Results Section\n",
    "[Return to Table of Contents](#top)"
   ]
  },
  {
   "cell_type": "markdown",
   "metadata": {},
   "source": [
    "## Notable: There appears to be a relationship between having women on the board and the board size. (One-Tier boards)\n",
    "\n",
    "### In the regression below, we see an R-squared of 0.546 with a P-value of ~0.0 indicating a better-than-not likelihood that the size of the board is increased when a woman is added to the board. This seems to show a trend of adding a woman to the board as an n+1 (where n is the original board size) rather than maintaining the same n via replacing an existing member.\n",
    "\n",
    "####  `Correlation: ~.303; R-Squared: 0.546; P-value: ~0.0; Observations: 24,374`"
   ]
  },
  {
   "cell_type": "code",
   "execution_count": 22,
   "metadata": {},
   "outputs": [
    {
     "name": "stdout",
     "output_type": "stream",
     "text": [
      "Trendline Equation: y=0.773802x+(8.414368)\n"
     ]
    },
    {
     "data": {
      "text/html": [
       "<table class=\"simpletable\">\n",
       "<caption>OLS Regression Results</caption>\n",
       "<tr>\n",
       "  <th>Dep. Variable:</th>          <td>bsize</td>      <th>  R-squared:         </th> <td>   0.546</td> \n",
       "</tr>\n",
       "<tr>\n",
       "  <th>Model:</th>                   <td>OLS</td>       <th>  Adj. R-squared:    </th> <td>   0.546</td> \n",
       "</tr>\n",
       "<tr>\n",
       "  <th>Method:</th>             <td>Least Squares</td>  <th>  F-statistic:       </th> <td>2.931e+04</td>\n",
       "</tr>\n",
       "<tr>\n",
       "  <th>Date:</th>             <td>Mon, 25 Feb 2019</td> <th>  Prob (F-statistic):</th>  <td>  0.00</td>  \n",
       "</tr>\n",
       "<tr>\n",
       "  <th>Time:</th>                 <td>12:34:37</td>     <th>  Log-Likelihood:    </th> <td> -80572.</td> \n",
       "</tr>\n",
       "<tr>\n",
       "  <th>No. Observations:</th>      <td> 24374</td>      <th>  AIC:               </th> <td>1.611e+05</td>\n",
       "</tr>\n",
       "<tr>\n",
       "  <th>Df Residuals:</th>          <td> 24373</td>      <th>  BIC:               </th> <td>1.612e+05</td>\n",
       "</tr>\n",
       "<tr>\n",
       "  <th>Df Model:</th>              <td>     1</td>      <th>                     </th>     <td> </td>    \n",
       "</tr>\n",
       "<tr>\n",
       "  <th>Covariance Type:</th>      <td>nonrobust</td>    <th>                     </th>     <td> </td>    \n",
       "</tr>\n",
       "</table>\n",
       "<table class=\"simpletable\">\n",
       "<tr>\n",
       "      <td></td>        <th>coef</th>     <th>std err</th>      <th>t</th>      <th>P>|t|</th>  <th>[0.025</th>    <th>0.975]</th>  \n",
       "</tr>\n",
       "<tr>\n",
       "  <th>femboard</th> <td>    4.3616</td> <td>    0.025</td> <td>  171.207</td> <td> 0.000</td> <td>    4.312</td> <td>    4.412</td>\n",
       "</tr>\n",
       "</table>\n",
       "<table class=\"simpletable\">\n",
       "<tr>\n",
       "  <th>Omnibus:</th>       <td>656.262</td> <th>  Durbin-Watson:     </th> <td>   0.263</td> \n",
       "</tr>\n",
       "<tr>\n",
       "  <th>Prob(Omnibus):</th> <td> 0.000</td>  <th>  Jarque-Bera (JB):  </th> <td>1184.313</td> \n",
       "</tr>\n",
       "<tr>\n",
       "  <th>Skew:</th>          <td>-0.221</td>  <th>  Prob(JB):          </th> <td>6.76e-258</td>\n",
       "</tr>\n",
       "<tr>\n",
       "  <th>Kurtosis:</th>      <td> 3.985</td>  <th>  Cond. No.          </th> <td>    1.00</td> \n",
       "</tr>\n",
       "</table><br/><br/>Warnings:<br/>[1] Standard Errors assume that the covariance matrix of the errors is correctly specified."
      ],
      "text/plain": [
       "<class 'statsmodels.iolib.summary.Summary'>\n",
       "\"\"\"\n",
       "                            OLS Regression Results                            \n",
       "==============================================================================\n",
       "Dep. Variable:                  bsize   R-squared:                       0.546\n",
       "Model:                            OLS   Adj. R-squared:                  0.546\n",
       "Method:                 Least Squares   F-statistic:                 2.931e+04\n",
       "Date:                Mon, 25 Feb 2019   Prob (F-statistic):               0.00\n",
       "Time:                        12:34:37   Log-Likelihood:                -80572.\n",
       "No. Observations:               24374   AIC:                         1.611e+05\n",
       "Df Residuals:                   24373   BIC:                         1.612e+05\n",
       "Df Model:                           1                                         \n",
       "Covariance Type:            nonrobust                                         \n",
       "==============================================================================\n",
       "                 coef    std err          t      P>|t|      [0.025      0.975]\n",
       "------------------------------------------------------------------------------\n",
       "femboard       4.3616      0.025    171.207      0.000       4.312       4.412\n",
       "==============================================================================\n",
       "Omnibus:                      656.262   Durbin-Watson:                   0.263\n",
       "Prob(Omnibus):                  0.000   Jarque-Bera (JB):             1184.313\n",
       "Skew:                          -0.221   Prob(JB):                    6.76e-258\n",
       "Kurtosis:                       3.985   Cond. No.                         1.00\n",
       "==============================================================================\n",
       "\n",
       "Warnings:\n",
       "[1] Standard Errors assume that the covariance matrix of the errors is correctly specified.\n",
       "\"\"\""
      ]
     },
     "execution_count": 22,
     "metadata": {},
     "output_type": "execute_result"
    },
    {
     "data": {
      "image/png": "[encoded data removed]",
      "text/plain": [
       "<Figure size 1152x648 with 1 Axes>"
      ]
     },
     "metadata": {},
     "output_type": "display_data"
    }
   ],
   "source": [
    "df_board_w_fem = df_main[['bsize', 'femboard']].copy()\n",
    "df_board_w_fem['bsize'] = df_board_w_fem['bsize']\n",
    "df_board_w_fem['femboard'] = df_board_w_fem['femboard']\n",
    "\n",
    "df_board_w_fem = df_board_w_fem.dropna()\n",
    "\n",
    "x = df_board_w_fem['femboard']\n",
    "y = df_board_w_fem['bsize']\n",
    "\n",
    "plt.figure(figsize = (16, 9))\n",
    "plt.scatter(df_board_w_fem['femboard'], df_board_w_fem['bsize'], marker=\"+\")\n",
    "z = np.polyfit(x, y, 1)\n",
    "p = np.poly1d(z)\n",
    "plt.plot(x,p(x),\"r--\")\n",
    "print(\"Trendline Equation: y={0:.6f}x+({1:.6f})\".format(z[0],z[1]))\n",
    "plt.ylabel(\"bsize\")\n",
    "plt.xlabel(\"femboard\")\n",
    "\n",
    "model = sm.OLS(y, x).fit()\n",
    "\n",
    "model.summary()"
   ]
  },
  {
   "cell_type": "markdown",
   "metadata": {},
   "source": [
    "## Notable: There appears to be little to no relationship between having a quota for gender diversity on a board and the actual amount of women on the board. (One-Tier boards).\n",
    "\n",
    "### Countries were coded if they had a quota (1) or not (0) and when the quota came into place.\n",
    "\n",
    "#### `Correlation: ~0.207; R-Squared: 0.151; P-value: ~0.0; Observations: 24,374`"
   ]
  },
  {
   "cell_type": "code",
   "execution_count": 25,
   "metadata": {},
   "outputs": [
    {
     "name": "stdout",
     "output_type": "stream",
     "text": [
      "Trendline Equation: y=0.058838x+(0.057616)\n",
      "Optimization terminated successfully.\n",
      "         Current function value: 0.587411\n",
      "         Iterations 6\n"
     ]
    },
    {
     "data": {
      "text/html": [
       "<table class=\"simpletable\">\n",
       "<caption>Logit Regression Results</caption>\n",
       "<tr>\n",
       "  <th>Dep. Variable:</th>     <td>HAS_QUOTA</td>    <th>  No. Observations:  </th>  <td> 24374</td> \n",
       "</tr>\n",
       "<tr>\n",
       "  <th>Model:</th>               <td>Logit</td>      <th>  Df Residuals:      </th>  <td> 24373</td> \n",
       "</tr>\n",
       "<tr>\n",
       "  <th>Method:</th>               <td>MLE</td>       <th>  Df Model:          </th>  <td>     0</td> \n",
       "</tr>\n",
       "<tr>\n",
       "  <th>Date:</th>          <td>Mon, 25 Feb 2019</td> <th>  Pseudo R-squ.:     </th>  <td>-0.5459</td>\n",
       "</tr>\n",
       "<tr>\n",
       "  <th>Time:</th>              <td>12:37:44</td>     <th>  Log-Likelihood:    </th> <td> -14318.</td>\n",
       "</tr>\n",
       "<tr>\n",
       "  <th>converged:</th>           <td>True</td>       <th>  LL-Null:           </th> <td> -9261.4</td>\n",
       "</tr>\n",
       "<tr>\n",
       "  <th> </th>                      <td> </td>        <th>  LLR p-value:       </th>  <td>   nan</td> \n",
       "</tr>\n",
       "</table>\n",
       "<table class=\"simpletable\">\n",
       "<tr>\n",
       "      <td></td>        <th>coef</th>     <th>std err</th>      <th>z</th>      <th>P>|z|</th>  <th>[0.025</th>    <th>0.975]</th>  \n",
       "</tr>\n",
       "<tr>\n",
       "  <th>femboard</th> <td>   -0.6802</td> <td>    0.011</td> <td>  -60.134</td> <td> 0.000</td> <td>   -0.702</td> <td>   -0.658</td>\n",
       "</tr>\n",
       "</table>"
      ],
      "text/plain": [
       "<class 'statsmodels.iolib.summary.Summary'>\n",
       "\"\"\"\n",
       "                           Logit Regression Results                           \n",
       "==============================================================================\n",
       "Dep. Variable:              HAS_QUOTA   No. Observations:                24374\n",
       "Model:                          Logit   Df Residuals:                    24373\n",
       "Method:                           MLE   Df Model:                            0\n",
       "Date:                Mon, 25 Feb 2019   Pseudo R-squ.:                 -0.5459\n",
       "Time:                        12:37:44   Log-Likelihood:                -14318.\n",
       "converged:                       True   LL-Null:                       -9261.4\n",
       "                                        LLR p-value:                       nan\n",
       "==============================================================================\n",
       "                 coef    std err          z      P>|z|      [0.025      0.975]\n",
       "------------------------------------------------------------------------------\n",
       "femboard      -0.6802      0.011    -60.134      0.000      -0.702      -0.658\n",
       "==============================================================================\n",
       "\"\"\""
      ]
     },
     "execution_count": 25,
     "metadata": {},
     "output_type": "execute_result"
    },
    {
     "data": {
      "image/png": "[encoded data removed]",
      "text/plain": [
       "<Figure size 1152x648 with 1 Axes>"
      ]
     },
     "metadata": {},
     "output_type": "display_data"
    }
   ],
   "source": [
    "df_quota_w_fem = df_main[['HAS_QUOTA', 'femboard']].copy()\n",
    "df_quota_w_fem['HAS_QUOTA'] = df_quota_w_fem['HAS_QUOTA']\n",
    "df_quota_w_fem['femboard'] = df_quota_w_fem['femboard']\n",
    "\n",
    "df_quota_w_fem = df_quota_w_fem.dropna()\n",
    "df_quota_w_fem = df_quota_w_fem[pd.notnull(df_quota_w_fem['HAS_QUOTA'])]\n",
    "df_quota_w_fem = df_quota_w_fem[pd.notnull(df_quota_w_fem['femboard'])]\n",
    "\n",
    "y = df_quota_w_fem['HAS_QUOTA']\n",
    "x = df_quota_w_fem['femboard']\n",
    "\n",
    "plt.figure(figsize = (16, 9))\n",
    "plt.scatter(df_quota_w_fem['HAS_QUOTA'], df_quota_w_fem['femboard'], marker=\"+\")\n",
    "z = np.polyfit(x, y, 1)\n",
    "p = np.poly1d(z)\n",
    "plt.plot(x,p(x),\"r--\")\n",
    "print(\"Trendline Equation: y={0:.6f}x+({1:.6f})\".format(z[0],z[1]))\n",
    "plt.ylabel(\"femboard\")\n",
    "plt.xlabel(\"HAS_QUOTA\")\n",
    "\n",
    "\n",
    "\n",
    "#model = sm.OLS(y, x).fit()\n",
    "model = sm.Logit(y, x).fit()\n",
    "model.summary()"
   ]
  },
  {
   "cell_type": "markdown",
   "metadata": {},
   "source": [
    "## Notable: There appears to be little to no relationship between having a quota for gender diversity for PTFs on a board and the actual amount of women on the board. (One-Tier boards).\n",
    "\n",
    "### Countries were coded if they had a quota for PTFs (1) or not (0) and when the quota came into place.\n",
    "\n",
    "#### `Correlation: ~0.197; R-Squared: 0.119; P-value: ~0.0; Observations: 24,374`"
   ]
  },
  {
   "cell_type": "code",
   "execution_count": 26,
   "metadata": {},
   "outputs": [
    {
     "name": "stdout",
     "output_type": "stream",
     "text": [
      "Trendline Equation: y=0.048105x+(0.033449)\n",
      "Optimization terminated successfully.\n",
      "         Current function value: 0.542228\n",
      "         Iterations 6\n"
     ]
    },
    {
     "data": {
      "text/html": [
       "<table class=\"simpletable\">\n",
       "<caption>Logit Regression Results</caption>\n",
       "<tr>\n",
       "  <th>Dep. Variable:</th>     <td>QUOTA_PTF</td>    <th>  No. Observations:  </th>  <td> 24374</td> \n",
       "</tr>\n",
       "<tr>\n",
       "  <th>Model:</th>               <td>Logit</td>      <th>  Df Residuals:      </th>  <td> 24373</td> \n",
       "</tr>\n",
       "<tr>\n",
       "  <th>Method:</th>               <td>MLE</td>       <th>  Df Model:          </th>  <td>     0</td> \n",
       "</tr>\n",
       "<tr>\n",
       "  <th>Date:</th>          <td>Mon, 25 Feb 2019</td> <th>  Pseudo R-squ.:     </th>  <td>-0.7938</td>\n",
       "</tr>\n",
       "<tr>\n",
       "  <th>Time:</th>              <td>13:05:05</td>     <th>  Log-Likelihood:    </th> <td> -13216.</td>\n",
       "</tr>\n",
       "<tr>\n",
       "  <th>converged:</th>           <td>True</td>       <th>  LL-Null:           </th> <td> -7367.9</td>\n",
       "</tr>\n",
       "<tr>\n",
       "  <th> </th>                      <td> </td>        <th>  LLR p-value:       </th>  <td>   nan</td> \n",
       "</tr>\n",
       "</table>\n",
       "<table class=\"simpletable\">\n",
       "<tr>\n",
       "      <td></td>        <th>coef</th>     <th>std err</th>      <th>z</th>      <th>P>|z|</th>  <th>[0.025</th>    <th>0.975]</th>  \n",
       "</tr>\n",
       "<tr>\n",
       "  <th>femboard</th> <td>   -0.8926</td> <td>    0.013</td> <td>  -66.771</td> <td> 0.000</td> <td>   -0.919</td> <td>   -0.866</td>\n",
       "</tr>\n",
       "</table>"
      ],
      "text/plain": [
       "<class 'statsmodels.iolib.summary.Summary'>\n",
       "\"\"\"\n",
       "                           Logit Regression Results                           \n",
       "==============================================================================\n",
       "Dep. Variable:              QUOTA_PTF   No. Observations:                24374\n",
       "Model:                          Logit   Df Residuals:                    24373\n",
       "Method:                           MLE   Df Model:                            0\n",
       "Date:                Mon, 25 Feb 2019   Pseudo R-squ.:                 -0.7938\n",
       "Time:                        13:05:05   Log-Likelihood:                -13216.\n",
       "converged:                       True   LL-Null:                       -7367.9\n",
       "                                        LLR p-value:                       nan\n",
       "==============================================================================\n",
       "                 coef    std err          z      P>|z|      [0.025      0.975]\n",
       "------------------------------------------------------------------------------\n",
       "femboard      -0.8926      0.013    -66.771      0.000      -0.919      -0.866\n",
       "==============================================================================\n",
       "\"\"\""
      ]
     },
     "execution_count": 26,
     "metadata": {},
     "output_type": "execute_result"
    },
    {
     "data": {
      "image/png": "[encoded data removed]",
      "text/plain": [
       "<Figure size 432x288 with 1 Axes>"
      ]
     },
     "metadata": {},
     "output_type": "display_data"
    }
   ],
   "source": [
    "df_quota_w_fem = df_main[['QUOTA_PTF', 'femboard']].copy()\n",
    "df_quota_w_fem['QUOTA_PTF'] = df_quota_w_fem['QUOTA_PTF']\n",
    "df_quota_w_fem['femboard'] = df_quota_w_fem['femboard']\n",
    "\n",
    "df_quota_w_fem = df_quota_w_fem.dropna()\n",
    "\n",
    "y = df_quota_w_fem['QUOTA_PTF']\n",
    "x = df_quota_w_fem['femboard']\n",
    "\n",
    "plt.scatter(df_quota_w_fem['QUOTA_PTF'], df_quota_w_fem['femboard'], marker=\"+\")\n",
    "z = np.polyfit(x, y, 1)\n",
    "p = np.poly1d(z)\n",
    "plt.plot(x,p(x),\"r--\")\n",
    "print(\"Trendline Equation: y={0:.6f}x+({1:.6f})\".format(z[0],z[1]))\n",
    "plt.ylabel(\"femboard\")\n",
    "plt.xlabel(\"QUOTA_PTF\")\n",
    "\n",
    "#model = sm.OLS(y, x).fit()\n",
    "model = sm.Logit(y, x).fit()\n",
    "model.summary()"
   ]
  },
  {
   "cell_type": "markdown",
   "metadata": {},
   "source": [
    "## There appears to be no relationship between having a quota for gender diversity on boards and the actual amount of women on the management board. (Specifically relates to countries with two-tier board structures).\n",
    "\n",
    "#### `Correlation: ~0.206; R-Squared: 0.095; P-value: ~0.0; Observations: 4,063`"
   ]
  },
  {
   "cell_type": "code",
   "execution_count": 28,
   "metadata": {},
   "outputs": [
    {
     "name": "stdout",
     "output_type": "stream",
     "text": [
      "Trendline Equation: y=0.104383x+(0.067390)\n",
      "Optimization terminated successfully.\n",
      "         Current function value: 0.663580\n",
      "         Iterations 5\n"
     ]
    },
    {
     "data": {
      "text/html": [
       "<table class=\"simpletable\">\n",
       "<caption>Logit Regression Results</caption>\n",
       "<tr>\n",
       "  <th>Dep. Variable:</th>     <td>HAS_QUOTA</td>    <th>  No. Observations:  </th>  <td>  4063</td> \n",
       "</tr>\n",
       "<tr>\n",
       "  <th>Model:</th>               <td>Logit</td>      <th>  Df Residuals:      </th>  <td>  4062</td> \n",
       "</tr>\n",
       "<tr>\n",
       "  <th>Method:</th>               <td>MLE</td>       <th>  Df Model:          </th>  <td>     0</td> \n",
       "</tr>\n",
       "<tr>\n",
       "  <th>Date:</th>          <td>Mon, 25 Feb 2019</td> <th>  Pseudo R-squ.:     </th>  <td>-1.106</td> \n",
       "</tr>\n",
       "<tr>\n",
       "  <th>Time:</th>              <td>13:05:32</td>     <th>  Log-Likelihood:    </th> <td> -2696.1</td>\n",
       "</tr>\n",
       "<tr>\n",
       "  <th>converged:</th>           <td>True</td>       <th>  LL-Null:           </th> <td> -1280.1</td>\n",
       "</tr>\n",
       "<tr>\n",
       "  <th> </th>                      <td> </td>        <th>  LLR p-value:       </th>  <td>   nan</td> \n",
       "</tr>\n",
       "</table>\n",
       "<table class=\"simpletable\">\n",
       "<tr>\n",
       "      <td></td>         <th>coef</th>     <th>std err</th>      <th>z</th>      <th>P>|z|</th>  <th>[0.025</th>    <th>0.975]</th>  \n",
       "</tr>\n",
       "<tr>\n",
       "  <th>femmboard</th> <td>   -0.8883</td> <td>    0.065</td> <td>  -13.575</td> <td> 0.000</td> <td>   -1.017</td> <td>   -0.760</td>\n",
       "</tr>\n",
       "</table>"
      ],
      "text/plain": [
       "<class 'statsmodels.iolib.summary.Summary'>\n",
       "\"\"\"\n",
       "                           Logit Regression Results                           \n",
       "==============================================================================\n",
       "Dep. Variable:              HAS_QUOTA   No. Observations:                 4063\n",
       "Model:                          Logit   Df Residuals:                     4062\n",
       "Method:                           MLE   Df Model:                            0\n",
       "Date:                Mon, 25 Feb 2019   Pseudo R-squ.:                  -1.106\n",
       "Time:                        13:05:32   Log-Likelihood:                -2696.1\n",
       "converged:                       True   LL-Null:                       -1280.1\n",
       "                                        LLR p-value:                       nan\n",
       "==============================================================================\n",
       "                 coef    std err          z      P>|z|      [0.025      0.975]\n",
       "------------------------------------------------------------------------------\n",
       "femmboard     -0.8883      0.065    -13.575      0.000      -1.017      -0.760\n",
       "==============================================================================\n",
       "\"\"\""
      ]
     },
     "execution_count": 28,
     "metadata": {},
     "output_type": "execute_result"
    },
    {
     "data": {
      "image/png": "[encoded data removed]",
      "text/plain": [
       "<Figure size 432x288 with 1 Axes>"
      ]
     },
     "metadata": {},
     "output_type": "display_data"
    }
   ],
   "source": [
    "df_quota_w_femm = df_main[['HAS_QUOTA', 'femmboard']].copy()\n",
    "df_quota_w_femm['HAS_QUOTA'] = df_quota_w_femm['HAS_QUOTA']\n",
    "df_quota_w_femm['femmboard'] = df_quota_w_femm['femmboard']\n",
    "\n",
    "df_quota_w_femm = df_quota_w_femm.dropna()\n",
    "\n",
    "y = df_quota_w_femm['HAS_QUOTA']\n",
    "x = df_quota_w_femm['femmboard']\n",
    "\n",
    "plt.scatter(df_quota_w_femm['HAS_QUOTA'], df_quota_w_femm['femmboard'], marker=\"+\")\n",
    "z = np.polyfit(x, y, 1)\n",
    "p = np.poly1d(z)\n",
    "plt.plot(x,p(x),\"r--\")\n",
    "print(\"Trendline Equation: y={0:.6f}x+({1:.6f})\".format(z[0],z[1]))\n",
    "plt.ylabel(\"femmboard\")\n",
    "plt.xlabel(\"HAS_QUOTA\")\n",
    "\n",
    "#model = sm.OLS(y, x).fit()\n",
    "model = sm.Logit(y, x).fit()\n",
    "\n",
    "model.summary()"
   ]
  },
  {
   "cell_type": "markdown",
   "metadata": {},
   "source": [
    "## There appears to be little to no relationship between having a quota for gender diversity on boards and the actual amount of women on the supervisory board. (Specifically relates to countries with two-tier board structures).\n",
    "\n",
    "#### `Correlation: 0.315; R-Squared: 0.183; P-value ~0.0; Observations: 4,063`"
   ]
  },
  {
   "cell_type": "code",
   "execution_count": 29,
   "metadata": {},
   "outputs": [
    {
     "name": "stdout",
     "output_type": "stream",
     "text": [
      "Trendline Equation: y=0.077231x+(0.019615)\n",
      "Optimization terminated successfully.\n",
      "         Current function value: 0.615313\n",
      "         Iterations 6\n"
     ]
    },
    {
     "data": {
      "text/html": [
       "<table class=\"simpletable\">\n",
       "<caption>Logit Regression Results</caption>\n",
       "<tr>\n",
       "  <th>Dep. Variable:</th>     <td>HAS_QUOTA</td>    <th>  No. Observations:  </th>  <td>  4063</td> \n",
       "</tr>\n",
       "<tr>\n",
       "  <th>Model:</th>               <td>Logit</td>      <th>  Df Residuals:      </th>  <td>  4062</td> \n",
       "</tr>\n",
       "<tr>\n",
       "  <th>Method:</th>               <td>MLE</td>       <th>  Df Model:          </th>  <td>     0</td> \n",
       "</tr>\n",
       "<tr>\n",
       "  <th>Date:</th>          <td>Mon, 25 Feb 2019</td> <th>  Pseudo R-squ.:     </th>  <td>-0.9529</td>\n",
       "</tr>\n",
       "<tr>\n",
       "  <th>Time:</th>              <td>13:07:03</td>     <th>  Log-Likelihood:    </th> <td> -2500.0</td>\n",
       "</tr>\n",
       "<tr>\n",
       "  <th>converged:</th>           <td>True</td>       <th>  LL-Null:           </th> <td> -1280.1</td>\n",
       "</tr>\n",
       "<tr>\n",
       "  <th> </th>                      <td> </td>        <th>  LLR p-value:       </th>  <td>   nan</td> \n",
       "</tr>\n",
       "</table>\n",
       "<table class=\"simpletable\">\n",
       "<tr>\n",
       "      <td></td>         <th>coef</th>     <th>std err</th>      <th>z</th>      <th>P>|z|</th>  <th>[0.025</th>    <th>0.975]</th>  \n",
       "</tr>\n",
       "<tr>\n",
       "  <th>femsboard</th> <td>   -0.6240</td> <td>    0.029</td> <td>  -21.179</td> <td> 0.000</td> <td>   -0.682</td> <td>   -0.566</td>\n",
       "</tr>\n",
       "</table>"
      ],
      "text/plain": [
       "<class 'statsmodels.iolib.summary.Summary'>\n",
       "\"\"\"\n",
       "                           Logit Regression Results                           \n",
       "==============================================================================\n",
       "Dep. Variable:              HAS_QUOTA   No. Observations:                 4063\n",
       "Model:                          Logit   Df Residuals:                     4062\n",
       "Method:                           MLE   Df Model:                            0\n",
       "Date:                Mon, 25 Feb 2019   Pseudo R-squ.:                 -0.9529\n",
       "Time:                        13:07:03   Log-Likelihood:                -2500.0\n",
       "converged:                       True   LL-Null:                       -1280.1\n",
       "                                        LLR p-value:                       nan\n",
       "==============================================================================\n",
       "                 coef    std err          z      P>|z|      [0.025      0.975]\n",
       "------------------------------------------------------------------------------\n",
       "femsboard     -0.6240      0.029    -21.179      0.000      -0.682      -0.566\n",
       "==============================================================================\n",
       "\"\"\""
      ]
     },
     "execution_count": 29,
     "metadata": {},
     "output_type": "execute_result"
    },
    {
     "data": {
      "image/png": "[encoded data removed]",
      "text/plain": [
       "<Figure size 432x288 with 1 Axes>"
      ]
     },
     "metadata": {},
     "output_type": "display_data"
    }
   ],
   "source": [
    "df_quota_w_fems = df_main[['HAS_QUOTA', 'femsboard']].copy()\n",
    "df_quota_w_fems['HAS_QUOTA'] = df_quota_w_fems['HAS_QUOTA']\n",
    "df_quota_w_fems['femsboard'] = df_quota_w_fems['femsboard']\n",
    "\n",
    "df_quota_w_fems = df_quota_w_fems.dropna()\n",
    "\n",
    "y = df_quota_w_fems['HAS_QUOTA']\n",
    "x = df_quota_w_fems['femsboard']\n",
    "\n",
    "plt.scatter(df_quota_w_fems['HAS_QUOTA'], df_quota_w_fems['femsboard'], marker=\"+\")\n",
    "z = np.polyfit(x, y, 1)\n",
    "p = np.poly1d(z)\n",
    "plt.plot(x,p(x),\"r--\")\n",
    "print(\"Trendline Equation: y={0:.6f}x+({1:.6f})\".format(z[0],z[1]))\n",
    "plt.ylabel(\"femsboard\")\n",
    "plt.xlabel(\"HAS_QUOTA\")\n",
    "\n",
    "#model = sm.OLS(y, x).fit()\n",
    "model = sm.Logit(y, x).fit()\n",
    "\n",
    "model.summary()"
   ]
  },
  {
   "cell_type": "markdown",
   "metadata": {},
   "source": [
    "## Notable: There appears to be little to no relationship between having a quota for gender diversity for Publicly Traded Firms (PTFs) on a board and the actual amount of women on the board.\n",
    "\n",
    "#### `Correlation: ~0.197; R-Squared: 0.119; P-value ~0.0; Observations: 24,374`"
   ]
  },
  {
   "cell_type": "code",
   "execution_count": 30,
   "metadata": {},
   "outputs": [
    {
     "name": "stdout",
     "output_type": "stream",
     "text": [
      "Trendline Equation: y=0.048105x+(0.033449)\n",
      "Optimization terminated successfully.\n",
      "         Current function value: 0.542228\n",
      "         Iterations 6\n"
     ]
    },
    {
     "data": {
      "text/html": [
       "<table class=\"simpletable\">\n",
       "<caption>Logit Regression Results</caption>\n",
       "<tr>\n",
       "  <th>Dep. Variable:</th>     <td>QUOTA_PTF</td>    <th>  No. Observations:  </th>  <td> 24374</td> \n",
       "</tr>\n",
       "<tr>\n",
       "  <th>Model:</th>               <td>Logit</td>      <th>  Df Residuals:      </th>  <td> 24373</td> \n",
       "</tr>\n",
       "<tr>\n",
       "  <th>Method:</th>               <td>MLE</td>       <th>  Df Model:          </th>  <td>     0</td> \n",
       "</tr>\n",
       "<tr>\n",
       "  <th>Date:</th>          <td>Mon, 25 Feb 2019</td> <th>  Pseudo R-squ.:     </th>  <td>-0.7938</td>\n",
       "</tr>\n",
       "<tr>\n",
       "  <th>Time:</th>              <td>13:15:48</td>     <th>  Log-Likelihood:    </th> <td> -13216.</td>\n",
       "</tr>\n",
       "<tr>\n",
       "  <th>converged:</th>           <td>True</td>       <th>  LL-Null:           </th> <td> -7367.9</td>\n",
       "</tr>\n",
       "<tr>\n",
       "  <th> </th>                      <td> </td>        <th>  LLR p-value:       </th>  <td>   nan</td> \n",
       "</tr>\n",
       "</table>\n",
       "<table class=\"simpletable\">\n",
       "<tr>\n",
       "      <td></td>        <th>coef</th>     <th>std err</th>      <th>z</th>      <th>P>|z|</th>  <th>[0.025</th>    <th>0.975]</th>  \n",
       "</tr>\n",
       "<tr>\n",
       "  <th>femboard</th> <td>   -0.8926</td> <td>    0.013</td> <td>  -66.771</td> <td> 0.000</td> <td>   -0.919</td> <td>   -0.866</td>\n",
       "</tr>\n",
       "</table>"
      ],
      "text/plain": [
       "<class 'statsmodels.iolib.summary.Summary'>\n",
       "\"\"\"\n",
       "                           Logit Regression Results                           \n",
       "==============================================================================\n",
       "Dep. Variable:              QUOTA_PTF   No. Observations:                24374\n",
       "Model:                          Logit   Df Residuals:                    24373\n",
       "Method:                           MLE   Df Model:                            0\n",
       "Date:                Mon, 25 Feb 2019   Pseudo R-squ.:                 -0.7938\n",
       "Time:                        13:15:48   Log-Likelihood:                -13216.\n",
       "converged:                       True   LL-Null:                       -7367.9\n",
       "                                        LLR p-value:                       nan\n",
       "==============================================================================\n",
       "                 coef    std err          z      P>|z|      [0.025      0.975]\n",
       "------------------------------------------------------------------------------\n",
       "femboard      -0.8926      0.013    -66.771      0.000      -0.919      -0.866\n",
       "==============================================================================\n",
       "\"\"\""
      ]
     },
     "execution_count": 30,
     "metadata": {},
     "output_type": "execute_result"
    },
    {
     "data": {
      "image/png": "[encoded data removed]",
      "text/plain": [
       "<Figure size 432x288 with 1 Axes>"
      ]
     },
     "metadata": {},
     "output_type": "display_data"
    }
   ],
   "source": [
    "df_quota_w_fem = df_main[['QUOTA_PTF', 'femboard']].copy()\n",
    "df_quota_w_fem['QUOTA_PTF'] = df_quota_w_fem['QUOTA_PTF']\n",
    "df_quota_w_fem['femboard'] = df_quota_w_fem['femboard']\n",
    "\n",
    "df_quota_w_fem = df_quota_w_fem.dropna()\n",
    "\n",
    "y = df_quota_w_fem['QUOTA_PTF']\n",
    "x = df_quota_w_fem['femboard']\n",
    "\n",
    "plt.scatter(df_quota_w_fem['QUOTA_PTF'], df_quota_w_fem['femboard'], marker=\"+\")\n",
    "z = np.polyfit(x, y, 1)\n",
    "p = np.poly1d(z)\n",
    "plt.plot(x,p(x),\"r--\")\n",
    "print(\"Trendline Equation: y={0:.6f}x+({1:.6f})\".format(z[0],z[1]))\n",
    "plt.ylabel(\"femboard\")\n",
    "plt.xlabel(\"QUOTA_PTF\")\n",
    "\n",
    "#model = sm.OLS(y, x).fit()\n",
    "model = sm.Logit(y, x).fit()\n",
    "\n",
    "model.summary()"
   ]
  },
  {
   "cell_type": "markdown",
   "metadata": {},
   "source": [
    "## There appears to be no relationship between having a quota for gender diversity for Publicly Traded Firms (PTFs) on a board and the amount of women on the management board. (Specifically relates to countries with two-tier board structures).\n",
    "\n",
    "#### `Correlation: ~-0.031; R-Squared: 0.004; P-value ~0.0; Observations: 4,063`"
   ]
  },
  {
   "cell_type": "code",
   "execution_count": 31,
   "metadata": {},
   "outputs": [
    {
     "name": "stdout",
     "output_type": "stream",
     "text": [
      "Trendline Equation: y=-0.011412x+(0.052051)\n",
      "Optimization terminated successfully.\n",
      "         Current function value: 0.582176\n",
      "         Iterations 8\n"
     ]
    },
    {
     "data": {
      "text/html": [
       "<table class=\"simpletable\">\n",
       "<caption>Logit Regression Results</caption>\n",
       "<tr>\n",
       "  <th>Dep. Variable:</th>     <td>QUOTA_PTF</td>    <th>  No. Observations:  </th>  <td>  4063</td> \n",
       "</tr>\n",
       "<tr>\n",
       "  <th>Model:</th>               <td>Logit</td>      <th>  Df Residuals:      </th>  <td>  4062</td> \n",
       "</tr>\n",
       "<tr>\n",
       "  <th>Method:</th>               <td>MLE</td>       <th>  Df Model:          </th>  <td>     0</td> \n",
       "</tr>\n",
       "<tr>\n",
       "  <th>Date:</th>          <td>Mon, 25 Feb 2019</td> <th>  Pseudo R-squ.:     </th>  <td>-1.978</td> \n",
       "</tr>\n",
       "<tr>\n",
       "  <th>Time:</th>              <td>13:15:56</td>     <th>  Log-Likelihood:    </th> <td> -2365.4</td>\n",
       "</tr>\n",
       "<tr>\n",
       "  <th>converged:</th>           <td>True</td>       <th>  LL-Null:           </th> <td> -794.30</td>\n",
       "</tr>\n",
       "<tr>\n",
       "  <th> </th>                      <td> </td>        <th>  LLR p-value:       </th>  <td>   nan</td> \n",
       "</tr>\n",
       "</table>\n",
       "<table class=\"simpletable\">\n",
       "<tr>\n",
       "      <td></td>         <th>coef</th>     <th>std err</th>      <th>z</th>      <th>P>|z|</th>  <th>[0.025</th>    <th>0.975]</th>  \n",
       "</tr>\n",
       "<tr>\n",
       "  <th>femmboard</th> <td>   -2.8448</td> <td>    0.164</td> <td>  -17.316</td> <td> 0.000</td> <td>   -3.167</td> <td>   -2.523</td>\n",
       "</tr>\n",
       "</table>"
      ],
      "text/plain": [
       "<class 'statsmodels.iolib.summary.Summary'>\n",
       "\"\"\"\n",
       "                           Logit Regression Results                           \n",
       "==============================================================================\n",
       "Dep. Variable:              QUOTA_PTF   No. Observations:                 4063\n",
       "Model:                          Logit   Df Residuals:                     4062\n",
       "Method:                           MLE   Df Model:                            0\n",
       "Date:                Mon, 25 Feb 2019   Pseudo R-squ.:                  -1.978\n",
       "Time:                        13:15:56   Log-Likelihood:                -2365.4\n",
       "converged:                       True   LL-Null:                       -794.30\n",
       "                                        LLR p-value:                       nan\n",
       "==============================================================================\n",
       "                 coef    std err          z      P>|z|      [0.025      0.975]\n",
       "------------------------------------------------------------------------------\n",
       "femmboard     -2.8448      0.164    -17.316      0.000      -3.167      -2.523\n",
       "==============================================================================\n",
       "\"\"\""
      ]
     },
     "execution_count": 31,
     "metadata": {},
     "output_type": "execute_result"
    },
    {
     "data": {
      "image/png": "[encoded data removed]",
      "text/plain": [
       "<Figure size 432x288 with 1 Axes>"
      ]
     },
     "metadata": {},
     "output_type": "display_data"
    }
   ],
   "source": [
    "df_quota_w_femm = df_main[['QUOTA_PTF', 'femmboard']].copy()\n",
    "df_quota_w_femm['QUOTA_PTF'] = df_quota_w_femm['QUOTA_PTF']\n",
    "df_quota_w_femm['femmboard'] = df_quota_w_femm['femmboard']\n",
    "\n",
    "df_quota_w_femm = df_quota_w_femm.dropna()\n",
    "\n",
    "y = df_quota_w_femm['QUOTA_PTF']\n",
    "x = df_quota_w_femm['femmboard']\n",
    "\n",
    "plt.scatter(df_quota_w_femm['QUOTA_PTF'], df_quota_w_femm['femmboard'], marker=\"+\")\n",
    "z = np.polyfit(x, y, 1)\n",
    "p = np.poly1d(z)\n",
    "plt.plot(x,p(x),\"r--\")\n",
    "print(\"Trendline Equation: y={0:.6f}x+({1:.6f})\".format(z[0],z[1]))\n",
    "plt.ylabel(\"femmboard\")\n",
    "plt.xlabel(\"QUOTA_PTF\")\n",
    "\n",
    "#model = sm.OLS(y, x).fit()\n",
    "model = sm.Logit(y, x).fit()\n",
    "\n",
    "model.summary()"
   ]
  },
  {
   "cell_type": "markdown",
   "metadata": {},
   "source": [
    "## There appears to be little to no relationship between having a quota for gender diversity for Publicly Traded Firms (PTFs) and the amount of women on the supervisory board. (Specifically relates to countries with two-tier board structures).\n",
    "\n",
    "#### `Correlation: 0.327; R-Squared: 0.150; P-value ~0.0; Observations: 4,063`"
   ]
  },
  {
   "cell_type": "code",
   "execution_count": 32,
   "metadata": {},
   "outputs": [
    {
     "name": "stdout",
     "output_type": "stream",
     "text": [
      "Trendline Equation: y=0.058887x+(-0.008880)\n",
      "Optimization terminated successfully.\n",
      "         Current function value: 0.559538\n",
      "         Iterations 6\n"
     ]
    },
    {
     "data": {
      "text/html": [
       "<table class=\"simpletable\">\n",
       "<caption>Logit Regression Results</caption>\n",
       "<tr>\n",
       "  <th>Dep. Variable:</th>     <td>QUOTA_PTF</td>    <th>  No. Observations:  </th>  <td>  4063</td> \n",
       "</tr>\n",
       "<tr>\n",
       "  <th>Model:</th>               <td>Logit</td>      <th>  Df Residuals:      </th>  <td>  4062</td> \n",
       "</tr>\n",
       "<tr>\n",
       "  <th>Method:</th>               <td>MLE</td>       <th>  Df Model:          </th>  <td>     0</td> \n",
       "</tr>\n",
       "<tr>\n",
       "  <th>Date:</th>          <td>Mon, 25 Feb 2019</td> <th>  Pseudo R-squ.:     </th>  <td>-1.862</td> \n",
       "</tr>\n",
       "<tr>\n",
       "  <th>Time:</th>              <td>13:16:06</td>     <th>  Log-Likelihood:    </th> <td> -2273.4</td>\n",
       "</tr>\n",
       "<tr>\n",
       "  <th>converged:</th>           <td>True</td>       <th>  LL-Null:           </th> <td> -794.30</td>\n",
       "</tr>\n",
       "<tr>\n",
       "  <th> </th>                      <td> </td>        <th>  LLR p-value:       </th>  <td>   nan</td> \n",
       "</tr>\n",
       "</table>\n",
       "<table class=\"simpletable\">\n",
       "<tr>\n",
       "      <td></td>         <th>coef</th>     <th>std err</th>      <th>z</th>      <th>P>|z|</th>  <th>[0.025</th>    <th>0.975]</th>  \n",
       "</tr>\n",
       "<tr>\n",
       "  <th>femsboard</th> <td>   -0.9511</td> <td>    0.038</td> <td>  -24.892</td> <td> 0.000</td> <td>   -1.026</td> <td>   -0.876</td>\n",
       "</tr>\n",
       "</table>"
      ],
      "text/plain": [
       "<class 'statsmodels.iolib.summary.Summary'>\n",
       "\"\"\"\n",
       "                           Logit Regression Results                           \n",
       "==============================================================================\n",
       "Dep. Variable:              QUOTA_PTF   No. Observations:                 4063\n",
       "Model:                          Logit   Df Residuals:                     4062\n",
       "Method:                           MLE   Df Model:                            0\n",
       "Date:                Mon, 25 Feb 2019   Pseudo R-squ.:                  -1.862\n",
       "Time:                        13:16:06   Log-Likelihood:                -2273.4\n",
       "converged:                       True   LL-Null:                       -794.30\n",
       "                                        LLR p-value:                       nan\n",
       "==============================================================================\n",
       "                 coef    std err          z      P>|z|      [0.025      0.975]\n",
       "------------------------------------------------------------------------------\n",
       "femsboard     -0.9511      0.038    -24.892      0.000      -1.026      -0.876\n",
       "==============================================================================\n",
       "\"\"\""
      ]
     },
     "execution_count": 32,
     "metadata": {},
     "output_type": "execute_result"
    },
    {
     "data": {
      "image/png": "[encoded data removed]",
      "text/plain": [
       "<Figure size 432x288 with 1 Axes>"
      ]
     },
     "metadata": {},
     "output_type": "display_data"
    }
   ],
   "source": [
    "df_quota_w_fems = df_main[['QUOTA_PTF', 'femsboard']].copy()\n",
    "df_quota_w_fems['QUOTA_PTF'] = df_quota_w_fems['QUOTA_PTF']\n",
    "df_quota_w_fems['femsboard'] = df_quota_w_fems['femsboard']\n",
    "\n",
    "df_quota_w_fems = df_quota_w_fems.dropna()\n",
    "\n",
    "y = df_quota_w_fems['QUOTA_PTF']\n",
    "x = df_quota_w_fems['femsboard']\n",
    "\n",
    "plt.scatter(df_quota_w_fems['QUOTA_PTF'], df_quota_w_fems['femsboard'], marker=\"+\")\n",
    "z = np.polyfit(x, y, 1)\n",
    "p = np.poly1d(z)\n",
    "plt.plot(x,p(x),\"r--\")\n",
    "print(\"Trendline Equation: y={0:.6f}x+({1:.6f})\".format(z[0],z[1]))\n",
    "plt.ylabel(\"femsboard\")\n",
    "plt.xlabel(\"QUOTA_PTF\")\n",
    "\n",
    "#model = sm.OLS(y, x).fit()\n",
    "model = sm.Logit(y, x).fit()\n",
    "model.summary()"
   ]
  },
  {
   "cell_type": "markdown",
   "metadata": {},
   "source": [
    "## Notable: There appears to be a relationship between those countries that do have quotas and the percentage of women on the board that the quota requires.\n",
    "\n",
    "### In countries which have a quota, it appears that the higher the quota, the more women are on the boards. This may indicate that if there is a quota, companies only do what they can to fulfil it and nothing more.\n",
    "\n",
    "#### `R-Squared: 0.630; P-value ~0.0; Observations: 3,087`"
   ]
  },
  {
   "cell_type": "code",
   "execution_count": null,
   "metadata": {},
   "outputs": [],
   "source": [
    "df_quota_w_fem = df_main[['HAS_QUOTA', 'QUOTA_PCNT', 'femboard']].copy()\n",
    "df_quota_w_fem = df_quota_w_fem[df_quota_w_fem['HAS_QUOTA'] == 1]\n",
    "\n",
    "df_quota_w_fem['HAS_QUOTA'] = df_quota_w_fem['HAS_QUOTA']\n",
    "df_quota_w_fem['femboard'] = df_quota_w_fem['femboard']\n",
    "\n",
    "df_quota_w_fem = df_quota_w_fem.dropna()\n",
    "\n",
    "x = df_quota_w_fem['QUOTA_PCNT']\n",
    "y = df_quota_w_fem['femboard']\n",
    "\n",
    "plt.scatter(df_quota_w_fem['QUOTA_PCNT'], df_quota_w_fem['femboard'], marker=\"+\")\n",
    "z = np.polyfit(x, y, 1)\n",
    "p = np.poly1d(z)\n",
    "plt.plot(x,p(x),\"r--\")\n",
    "print(\"Trendline Equation: y={0:.6f}x+({1:.6f})\".format(z[0],z[1]))\n",
    "plt.ylabel(\"femboard\")\n",
    "plt.xlabel(\"QUOTA_PCNT\")\n",
    "\n",
    "model = sm.OLS(y, x).fit()\n",
    "\n",
    "model.summary()"
   ]
  },
  {
   "cell_type": "markdown",
   "metadata": {},
   "source": [
    "## Notable: There appears to be a relationship between those countries that do have quotas for PTFs and the percentage of women on the board of a PTF that the quota requires.\n",
    "\n",
    "### In countries which have a quota for PTFs, it appears that the higher the quota, the more women are on the boards. This may indicate that if there is a quota for a PTF, companies only do what they can to fulfil it and nothing more.\n",
    "\n",
    "#### `R-Squared: 0.627; P-value ~0.0; Observations: 2,191`"
   ]
  },
  {
   "cell_type": "code",
   "execution_count": null,
   "metadata": {},
   "outputs": [],
   "source": [
    "df_quota_w_fem = df_main[['QUOTA_PTF', 'QUOTA_PCNT', 'femboard']].copy()\n",
    "df_quota_w_fem = df_quota_w_fem[df_quota_w_fem['QUOTA_PTF'] == 1]\n",
    "\n",
    "df_quota_w_fem['QUOTA_PTF'] = df_quota_w_fem['QUOTA_PTF']\n",
    "df_quota_w_fem['femboard'] = df_quota_w_fem['femboard']\n",
    "\n",
    "df_quota_w_fem = df_quota_w_fem.dropna()\n",
    "\n",
    "x = df_quota_w_fem['QUOTA_PCNT']\n",
    "y = df_quota_w_fem['femboard']\n",
    "\n",
    "plt.scatter(df_quota_w_fem['QUOTA_PCNT'], df_quota_w_fem['femboard'], marker=\"+\")\n",
    "z = np.polyfit(x, y, 1)\n",
    "p = np.poly1d(z)\n",
    "plt.plot(x,p(x),\"r--\")\n",
    "print(\"Trendline Equation: y={0:.6f}x+({1:.6f})\".format(z[0],z[1]))\n",
    "plt.ylabel(\"femboard\")\n",
    "plt.xlabel(\"QUOTA_PCNT\")\n",
    "\n",
    "model = sm.OLS(y, x).fit()\n",
    "\n",
    "model.summary()"
   ]
  },
  {
   "cell_type": "markdown",
   "metadata": {},
   "source": [
    "## There appears a small but less significant relationship between those countries that do have quotas and the percentage of women on the management board that the quota requires. (Specifically relates to countries with two-tier board structures).\n",
    "\n",
    "#### `R-Squared: 0.392; P-value ~0.0; Observations: 535`"
   ]
  },
  {
   "cell_type": "code",
   "execution_count": null,
   "metadata": {},
   "outputs": [],
   "source": [
    "df_quota_w_femm = df_main[['HAS_QUOTA', 'QUOTA_PCNT', 'femmboard']].copy()\n",
    "df_quota_w_femm = df_quota_w_femm[df_quota_w_femm['HAS_QUOTA'] == 1]\n",
    "\n",
    "df_quota_w_femm['HAS_QUOTA'] = df_quota_w_femm['HAS_QUOTA']\n",
    "df_quota_w_femm['femmboard'] = df_quota_w_femm['femmboard']\n",
    "\n",
    "df_quota_w_femm = df_quota_w_femm.dropna()\n",
    "\n",
    "x = df_quota_w_femm['QUOTA_PCNT']\n",
    "y = df_quota_w_femm['femmboard']\n",
    "\n",
    "plt.scatter(df_quota_w_femm['QUOTA_PCNT'], df_quota_w_femm['femmboard'], marker=\"+\")\n",
    "z = np.polyfit(x, y, 1)\n",
    "p = np.poly1d(z)\n",
    "plt.plot(x,p(x),\"r--\")\n",
    "print(\"Trendline Equation: y={0:.6f}x+({1:.6f})\".format(z[0],z[1]))\n",
    "plt.ylabel(\"femmboard\")\n",
    "plt.xlabel(\"QUOTA_PCNT\")\n",
    "\n",
    "model = sm.OLS(y, x).fit()\n",
    "\n",
    "model.summary()"
   ]
  },
  {
   "cell_type": "markdown",
   "metadata": {},
   "source": [
    "## Notable: There appears to be a significant relationship between those countries that do have quotas and the percentage of women on the supervisory board that the quota requires. (Specifically relates to countries with two-tier board structures).\n",
    "\n",
    "#### `R-Squared: 0.702; P-value ~0.0; Observations: 535`"
   ]
  },
  {
   "cell_type": "code",
   "execution_count": null,
   "metadata": {},
   "outputs": [],
   "source": [
    "df_quota_w_fems = df_main[['HAS_QUOTA', 'QUOTA_PCNT', 'femsboard']].copy()\n",
    "df_quota_w_fems = df_quota_w_fems[df_quota_w_fems['HAS_QUOTA'] == 1]\n",
    "\n",
    "df_quota_w_fems['HAS_QUOTA'] = df_quota_w_fems['HAS_QUOTA']\n",
    "df_quota_w_fems['femsboard'] = df_quota_w_fems['femsboard']\n",
    "\n",
    "df_quota_w_fems = df_quota_w_fems.dropna()\n",
    "\n",
    "x = df_quota_w_fems['QUOTA_PCNT']\n",
    "y = df_quota_w_fems['femsboard']\n",
    "\n",
    "plt.scatter(df_quota_w_fems['QUOTA_PCNT'], df_quota_w_fems['femsboard'], marker=\"+\")\n",
    "z = np.polyfit(x, y, 1)\n",
    "p = np.poly1d(z)\n",
    "plt.plot(x,p(x),\"r--\")\n",
    "print(\"Trendline Equation: y={0:.6f}x+({1:.6f})\".format(z[0],z[1]))\n",
    "plt.ylabel(\"femsboard\")\n",
    "plt.xlabel(\"QUOTA_PCNT\")\n",
    "\n",
    "model = sm.OLS(y, x).fit()\n",
    "\n",
    "model.summary()"
   ]
  },
  {
   "cell_type": "markdown",
   "metadata": {},
   "source": [
    "<a id='countries'></a>\n",
    "# Diversity Information By Country\n",
    "#### Assessments for: NOR; ESP; FIN; CAN; ISR; FRA; ITA; BEL\n",
    "[Return to Table of Contents](#top)\n"
   ]
  },
  {
   "cell_type": "markdown",
   "metadata": {},
   "source": [
    "<a id='quota_countries'></a>\n",
    "### Quota countries with datapoint counts\n",
    "|ISO-3|Datapoint Count|\n",
    "|------|------|\n",
    "|NOR|629|\n",
    "|ESP|605|\n",
    "|FIN|529|\n",
    "|CAN|1180|\n",
    "|ISR|63|\n",
    "|FRA|1340|\n",
    "|ITA|1014|\n",
    "|BEL|446|\n"
   ]
  },
  {
   "cell_type": "markdown",
   "metadata": {},
   "source": [
    "<a id='countries_tbl'></a>\n",
    "### All countries by year with percentage of female board diversity (FEM_DIV: femboard / bsize)\n",
    "[Return to Table of Contents](#top)"
   ]
  },
  {
   "cell_type": "code",
   "execution_count": null,
   "metadata": {
    "scrolled": false
   },
   "outputs": [],
   "source": [
    "df_fem_desc = df_main[['country', 'year', 'HAS_QUOTA', 'QUOTA_PTF', 'QUOTA_PCNT', 'FEM_DIV']]\n",
    "df_fem_desc_grouped = df_fem_desc.groupby(['country', 'year', 'HAS_QUOTA', 'QUOTA_PTF', 'QUOTA_PCNT'])['FEM_DIV'].mean().reset_index()\n",
    "#df_fem_desc_grouped.to_excel('year_over_year.xlsx', index=False)\n",
    "df_fem_desc_grouped"
   ]
  },
  {
   "cell_type": "markdown",
   "metadata": {},
   "source": [
    "<a id='quota_country_div'></a>\n",
    "### Table of diversity for countries with quotas\n",
    "[Return to Table of Contents](#top)"
   ]
  },
  {
   "cell_type": "code",
   "execution_count": null,
   "metadata": {},
   "outputs": [],
   "source": [
    "quota_countries = [\"NOR\", \"ESP\", \"FIN\", \"CAN\", \"ISR\", \"FRA\", \"ITA\", \"BEL\"]\n",
    "\n",
    "df_fem_desc_grouped_quotas = df_fem_desc_grouped.loc[df_fem_desc_grouped['country'].isin(quota_countries)]\n",
    "\n",
    "df_fem_desc_grouped_quotas"
   ]
  },
  {
   "cell_type": "markdown",
   "metadata": {},
   "source": [
    "<a id='quota_graphs'></a>\n",
    "## Graphs for firms with quotas for publicly traded firms\n",
    "### Red line indicates year the quota legislation was passed"
   ]
  },
  {
   "cell_type": "markdown",
   "metadata": {},
   "source": [
    "<a id='norway'></a>\n",
    "### Norway\n",
    "#### Legislation passed in 2003\n",
    "[Return to Table of Contents](#top)"
   ]
  },
  {
   "cell_type": "code",
   "execution_count": null,
   "metadata": {},
   "outputs": [],
   "source": [
    "df_ctry = df_fem_desc_grouped.loc[df_fem_desc_grouped['country'] == \"NOR\"]\n",
    "x = df_ctry['year']\n",
    "y = df_ctry['FEM_DIV']\n",
    "\n",
    "y_min = 0\n",
    "y_max = .4\n",
    "quota_passage_year = 2003\n",
    "\n",
    "plt.figure(figsize = (16, 9))\n",
    "plt.plot(x,y)\n",
    "plt.plot([quota_passage_year,quota_passage_year], [y_min,y_max], 'r--')\n",
    "axes = plt.gca()\n",
    "axes.set_ylim([y_min,y_max])\n",
    "plt.ylabel(\"FEM_DIV\")\n",
    "plt.xlabel(\"year\")\n",
    "\n",
    "df_ctry"
   ]
  },
  {
   "cell_type": "markdown",
   "metadata": {},
   "source": [
    "<a id='spain'></a>\n",
    "### Spain\n",
    "#### Legislation passed in 2007\n",
    "[Return to Table of Contents](#top)"
   ]
  },
  {
   "cell_type": "code",
   "execution_count": null,
   "metadata": {},
   "outputs": [],
   "source": [
    "df_ctry = df_fem_desc_grouped.loc[df_fem_desc_grouped['country'] == \"ESP\"]\n",
    "x = df_ctry['year']\n",
    "y = df_ctry['FEM_DIV']\n",
    "\n",
    "y_min = 0\n",
    "y_max = .4\n",
    "quota_passage_year = 2007\n",
    "\n",
    "plt.figure(figsize = (16, 9))\n",
    "plt.plot(x,y)\n",
    "plt.plot([quota_passage_year,quota_passage_year], [y_min,y_max], 'r--')\n",
    "axes = plt.gca()\n",
    "axes.set_ylim([y_min,y_max])\n",
    "plt.ylabel(\"FEM_DIV\")\n",
    "plt.xlabel(\"year\")\n",
    "\n",
    "df_ctry"
   ]
  },
  {
   "cell_type": "markdown",
   "metadata": {},
   "source": [
    "<a id='france'></a>\n",
    "### France\n",
    "#### Legislation passed in 2011\n",
    "[Return to Table of Contents](#top)"
   ]
  },
  {
   "cell_type": "code",
   "execution_count": null,
   "metadata": {},
   "outputs": [],
   "source": [
    "df_ctry = df_fem_desc_grouped.loc[df_fem_desc_grouped['country'] == \"FRA\"]\n",
    "x = df_ctry['year']\n",
    "y = df_ctry['FEM_DIV']\n",
    "\n",
    "y_min = 0\n",
    "y_max = .4\n",
    "quota_passage_year = 2011\n",
    "\n",
    "plt.figure(figsize = (16, 9))\n",
    "plt.plot(x,y)\n",
    "plt.plot([quota_passage_year,quota_passage_year], [y_min,y_max], 'r--')\n",
    "axes = plt.gca()\n",
    "axes.set_ylim([y_min,y_max])\n",
    "plt.ylabel(\"FEM_DIV\")\n",
    "plt.xlabel(\"year\")\n",
    "\n",
    "df_ctry"
   ]
  },
  {
   "cell_type": "markdown",
   "metadata": {},
   "source": [
    "<a id='israel'></a>\n",
    "### Israel\n",
    "#### Legislation passed in 1999\n",
    "#### Note: No compliance date or quota percentage was given. It was specified that one board seat went to a woman.\n",
    "[Return to Table of Contents](#top)"
   ]
  },
  {
   "cell_type": "code",
   "execution_count": null,
   "metadata": {},
   "outputs": [],
   "source": [
    "df_ctry = df_fem_desc_grouped.loc[df_fem_desc_grouped['country'] == \"ISR\"]\n",
    "x = df_ctry['year']\n",
    "y = df_ctry['FEM_DIV']\n",
    "\n",
    "y_min = 0\n",
    "y_max = .4\n",
    "quota_passage_year = 1999\n",
    "\n",
    "plt.figure(figsize = (16, 9))\n",
    "plt.plot(x,y)\n",
    "plt.plot([quota_passage_year,quota_passage_year], [y_min,y_max], 'r--')\n",
    "axes = plt.gca()\n",
    "axes.set_ylim([y_min,y_max])\n",
    "plt.ylabel(\"FEM_DIV\")\n",
    "plt.xlabel(\"year\")\n",
    "\n",
    "df_ctry\n"
   ]
  },
  {
   "cell_type": "markdown",
   "metadata": {},
   "source": [
    "<a id='belgium'></a>\n",
    "### Belgium\n",
    "#### Legislation passed in 2011\n",
    "[Return to Table of Contents](#top)"
   ]
  },
  {
   "cell_type": "code",
   "execution_count": null,
   "metadata": {},
   "outputs": [],
   "source": [
    "df_ctry = df_fem_desc_grouped.loc[df_fem_desc_grouped['country'] == \"BEL\"]\n",
    "x = df_ctry['year']\n",
    "y = df_ctry['FEM_DIV']\n",
    "\n",
    "y_min = 0\n",
    "y_max = .4\n",
    "quota_passage_year = 2011\n",
    "\n",
    "plt.figure(figsize = (16, 9))\n",
    "plt.plot(x,y)\n",
    "plt.plot([quota_passage_year,quota_passage_year], [y_min,y_max], 'r--')\n",
    "axes = plt.gca()\n",
    "axes.set_ylim([y_min,y_max])\n",
    "plt.ylabel(\"FEM_DIV\")\n",
    "plt.xlabel(\"year\")\n",
    "\n",
    "df_ctry"
   ]
  },
  {
   "cell_type": "markdown",
   "metadata": {},
   "source": [
    "[Return to Table of Contents](#top)"
   ]
  },
  {
   "cell_type": "code",
   "execution_count": null,
   "metadata": {},
   "outputs": [],
   "source": []
  }
 ],
 "metadata": {
  "kernelspec": {
   "display_name": "Python 3",
   "language": "python",
   "name": "python3"
  },
  "language_info": {
   "codemirror_mode": {
    "name": "ipython",
    "version": 3
   },
   "file_extension": ".py",
   "mimetype": "text/x-python",
   "name": "python",
   "nbconvert_exporter": "python",
   "pygments_lexer": "ipython3",
   "version": "3.6.5"
  }
 },
 "nbformat": 4,
 "nbformat_minor": 2
}
